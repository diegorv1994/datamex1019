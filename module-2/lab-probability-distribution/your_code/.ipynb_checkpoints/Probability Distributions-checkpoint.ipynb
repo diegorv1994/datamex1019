{
 "cells": [
  {
   "cell_type": "markdown",
   "metadata": {},
   "source": [
    "# Probability Distributions\n",
    "\n",
    "\n",
    "Lesson Goals\n",
    "\n",
    "In this lesson we will become better acquainted with both discrete and continuous probability distributions.\n",
    "Introduction\n",
    "\n",
    "In the field of probability, a distribution function is a function that maps numerical values to probabilities. Typically, all outcomes in the sample space will have a probability associated with them. There are two types of probability distribution functions - continuous and discrete.\n",
    "Random Variables\n",
    "\n",
    "Before starting to discuss distributions, it is important to introduce random variables. Without sounding redundant, a random variable is a variable whose values are a result of a random experiment. Each possible outcome in a random variable has a certain probability derived from the probability distribution.\n",
    "Discrete Probability Distributions\n",
    "\n",
    "A Discrete probability distribution is characterized by having a finite or countably infinite number of outcomes in the sample space. The sum of probabilities for all outcomes in the sample space must add up to 1."
   ]
  },
  {
   "cell_type": "markdown",
   "metadata": {},
   "source": [
    "Now let's take a look at a few common discrete probability distributions\n",
    "\n",
    "\n",
    "Discrete Uniform Distribution\n",
    "\n",
    "The uniform distribution assigns the same probability to all outcomes in the sample space. The die example that we have previously explored is an example of a discrete uniform distribution. For n events, the probability of an event is 1/n.\n",
    "\n",
    "\n",
    "Bernoulli Distribution\n",
    "\n",
    "The Bernoulli distribution describes the outcome of a single yes or no event. An example of this distribution is a coin toss. We do not have to use a fair coin (a coin where there is a 50% chance of heads and 50% chance of tails). We can describe the probability of heads as p and say that the probability of tails is 1-p.\n",
    "\n",
    "\n",
    "Binomial Distribution\n",
    "\n",
    "The binomial distribution describes the outcome of multiple yes or no events. An example is a sequence of coin tosses. Again, we use the general case and assign the probability of heads to be p and tails to be 1-p. All events in the sequence are independent of one another."
   ]
  },
  {
   "cell_type": "markdown",
   "metadata": {},
   "source": [
    "# The Binomial Distribution in Python\n",
    "\n",
    "We can use the Scipy library to compute the probability of k successes with n trials. For example, here we calculate the probability of a biased coin with a 30% chance of heads, being heads 5 times in 10 flips:"
   ]
  },
  {
   "cell_type": "code",
   "execution_count": 1,
   "metadata": {},
   "outputs": [
    {
     "data": {
      "text/plain": [
       "0.10291934520000007"
      ]
     },
     "execution_count": 1,
     "metadata": {},
     "output_type": "execute_result"
    }
   ],
   "source": [
    "from scipy.stats import binom\n",
    "binom.pmf(5, 10, 0.3)"
   ]
  },
  {
   "cell_type": "markdown",
   "metadata": {},
   "source": [
    "The probability of exactly 5 heads in 10 flips with our biased coin is just over 10%."
   ]
  },
  {
   "cell_type": "markdown",
   "metadata": {},
   "source": [
    "Geometric Distribution\n",
    "\n",
    "The geometric distribution describes how many trials needed before we get an outcome of success (where only 2 outcomes exist - success and failure)."
   ]
  },
  {
   "cell_type": "markdown",
   "metadata": {},
   "source": [
    "# The Geometric Distribution in Python\n",
    "\n",
    "The Scipy library also has a function for computing the probability of a success after k trials for the geometric distribution."
   ]
  },
  {
   "cell_type": "code",
   "execution_count": 2,
   "metadata": {},
   "outputs": [
    {
     "data": {
      "text/plain": [
       "0.005670000000000003"
      ]
     },
     "execution_count": 2,
     "metadata": {},
     "output_type": "execute_result"
    }
   ],
   "source": [
    "from scipy.stats import geom\n",
    "geom.pmf(5, 0.7)"
   ]
  },
  {
   "cell_type": "markdown",
   "metadata": {},
   "source": [
    "Remember that this is the probability that it will take exactly 5 trials to get a success. Since the probability of success is 0.7, it is very likely that by trial 5 success has already happened. Therefore, the probability of having a success only by the 5th trial is rather small.\n",
    "\n",
    "\n",
    "\n",
    "# Continuous Distributions\n",
    "\n",
    "Unlike discrete distributions, continuous distributions do not assign a probability to one point in the sample space. Instead, we assign a probability to a range. We calculate the probability by computing the area under the curve for our distribution function. The area under one point is approximately zero and therefore we cannot assign a probability to a single point."
   ]
  },
  {
   "cell_type": "markdown",
   "metadata": {},
   "source": [
    "Continuous Uniform Distribution\n",
    "\n",
    "Similar to the discrete uniform distribution, the probability is evenly spread throughout the sample space. In this case, two equal sized segments in the continuous sample space will have the same probability.\n",
    "\n"
   ]
  },
  {
   "cell_type": "markdown",
   "metadata": {},
   "source": [
    "# The Continuous Uniform Distribution in Python\n",
    "\n",
    "The Scipy function for the uniform distribution can only receive 3 arguments. Therefore, we will be using the cumulative distribution function. This function will sum up the probability from the starting point of the range to the ending point that we specify.\n",
    "\n",
    "The first argument is our ending point in the range. The second argument is the starting point of our range of the uniform distribution. The third argument is the length of the range.\n",
    "\n",
    "In the following example, we pass to the function 15, 10, 10. This means that we are looking for the uniform distribution between 10 and 10+10=20. The starting point for the probability that we would like to compute is 10 and our ending point is 15. We can quickly compute in our head that the answer should be (15-10)/(20-10)=0.5. Let's confirm this:"
   ]
  },
  {
   "cell_type": "code",
   "execution_count": 3,
   "metadata": {},
   "outputs": [
    {
     "data": {
      "text/plain": [
       "0.5"
      ]
     },
     "execution_count": 3,
     "metadata": {},
     "output_type": "execute_result"
    }
   ],
   "source": [
    "from scipy.stats import uniform\n",
    "uniform.cdf(15, 10, 10)"
   ]
  },
  {
   "cell_type": "markdown",
   "metadata": {},
   "source": [
    "Therefore, the probability of the segment from 10 to 15 where our entire sample space ranges from 10 to 20 is 0.5.\n",
    "\n",
    "\n",
    "\n",
    "Normal Distribution\n",
    "\n",
    "The normal distribution is a useful distribution that helps us describe or approximate many natural phenomena. At the heart of this distribution is the idea that outcomes are more likely the closer they are to the mean."
   ]
  },
  {
   "cell_type": "markdown",
   "metadata": {},
   "source": [
    "# The Normal Distribtion in Python\n",
    "\n",
    "The Scipy library provides us with a normal distribution function.\n",
    "\n",
    "Using the cumulative distribution function, we pass the value that we would like to find the probability for. The second and third arguments are the mean and standard deviation.\n",
    "\n",
    "In this example, we would like to find the probability that x is less than zero for a normal distribution with mean 0 and standard deviation 1."
   ]
  },
  {
   "cell_type": "code",
   "execution_count": 7,
   "metadata": {},
   "outputs": [
    {
     "data": {
      "text/plain": [
       "1.0"
      ]
     },
     "execution_count": 7,
     "metadata": {},
     "output_type": "execute_result"
    }
   ],
   "source": [
    "from scipy.stats import norm\n",
    "norm.cdf(10, 0, 1)"
   ]
  },
  {
   "cell_type": "code",
   "execution_count": null,
   "metadata": {},
   "outputs": [],
   "source": []
  }
 ],
 "metadata": {
  "kernelspec": {
   "display_name": "Python 3",
   "language": "python",
   "name": "python3"
  },
  "language_info": {
   "codemirror_mode": {
    "name": "ipython",
    "version": 3
   },
   "file_extension": ".py",
   "mimetype": "text/x-python",
   "name": "python",
   "nbconvert_exporter": "python",
   "pygments_lexer": "ipython3",
   "version": "3.7.3"
  }
 },
 "nbformat": 4,
 "nbformat_minor": 2
}
